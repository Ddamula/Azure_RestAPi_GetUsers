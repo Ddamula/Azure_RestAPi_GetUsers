{
 "cells": [
  {
   "cell_type": "code",
   "execution_count": 1,
   "metadata": {},
   "outputs": [
    {
     "name": "stdout",
     "output_type": "stream",
     "text": [
      "Renew the Token\n"
     ]
    }
   ],
   "source": [
    "import requests\n",
    "import json\n",
    "import pandas as pd \n",
    "k = 0\n",
    "token = \"Token_String\"\n",
    "while(k <= 30500):\n",
    "    skip = str(k)\n",
    "    top = '1000'\n",
    "    test_api_url = \"https://management.azure.com/subscriptions/adbf35c9-f2bf-4df6-8365-7ff17289576d/resourceGroups/Ericson_API/providers/Microsoft.ApiManagement/service/EricssonBasicAPI2/users/?api-version=2020-12-01&$top=\"+top+\"&$skip=\"+skip+\"\"\n",
    "    api_call_headers = {'Authorization': 'Bearer ' + token}\n",
    "    api_call_response = requests.get(test_api_url, headers=api_call_headers)\n",
    "    try:\n",
    "         if(api_call_response.status_code==200):\n",
    "              json_res = api_call_response.json().get('value')\n",
    "              df = pd.json_normalize(json_res,max_level=1)\n",
    "              dataset = df[[\"properties.firstName\",\"properties.lastName\",\"properties.email\",\"properties.state\"]]\n",
    "              dataset.to_csv('APIM_USERS.csv', mode='a', index=False, header=False)\n",
    "         elif(api_call_response.status_code==401):\n",
    "              print(\"Renew the Token\")\n",
    "              break;\n",
    "         else:\n",
    "               break;\n",
    "    except:\n",
    "         print(\"An Error Oucred\")\n",
    "    k+=1000\n",
    "##datacsv.to_csv(\"azureaccts.csv\", index=False, mode='a', header=False)\n",
    "##print(json_res[1])"
   ]
  }
 ],
 "metadata": {
  "kernelspec": {
   "display_name": "base",
   "language": "python",
   "name": "python3"
  },
  "language_info": {
   "codemirror_mode": {
    "name": "ipython",
    "version": 3
   },
   "file_extension": ".py",
   "mimetype": "text/x-python",
   "name": "python",
   "nbconvert_exporter": "python",
   "pygments_lexer": "ipython3",
   "version": "3.10.9"
  },
  "orig_nbformat": 4
 },
 "nbformat": 4,
 "nbformat_minor": 2
}
